{
 "cells": [
  {
   "cell_type": "markdown",
   "metadata": {},
   "source": [
    "# Act Report -- data wrangling on the WeRateDog data\n",
    "by Sunny\n",
    "## Introduction\n",
    "WeRateDogs is a Twitter account, that rates people's dogs with a humorous comment about the dog. WeRateDogs has over 4 million followers and has received international media coverage. This project is devoted to gather the data around the dog rating and deliver a preliminary data analysis on the wrangle data.\n",
    "## Data\n",
    "The data is consisted of 3 pieces: \n",
    "1) WeRateDogs downloaded their Twitter archive and sent it to Udacity via email exclusively for you to use in this project. This archive contains basic tweet data (tweet ID, timestamp, text, etc.) for all 5000+ of their tweets as they stood on August 1, 2017. This archive has been enhanced with extra data and has bee provided as csv for the project use.\n",
    "2) Dog breeds info gathered thru a neural network has been provided for the project use as a tsv file. \n",
    "3) The tweets raw JSON data are gathered through tweepy saved as txt file contains information like text, image_url, favorates, retweets and etc.\n"
   ]
  },
  {
   "attachments": {},
   "cell_type": "markdown",
   "metadata": {},
   "source": [
    "## Findings\n",
    "<br> In this project, as the wrangling is the main task, hereby I only provid some prelimenary findings of data.\n",
    "1) I find the most-liked and most-retweeted happen to be the same little angel without knowing it's name. It's a Labrador Retriever. the orignal tweet is:\n",
    "\" Original tweet: Here's a doggo realizing you can stand in a pool. 13/10 enlightened af (vid by Tina Conrad)\"\n",
    "\"most_retweet_dog.jpg\"\n",
    "![lovely angel](most_retweet_dog.jpg)\n",
    "2) The top 3 breeds with most posts in the data are Golden Retriever, Labrador Retriever, and Pembroke. \n",
    "3) The stage of dog with most posts in the data is pupper."
   ]
  },
  {
   "cell_type": "markdown",
   "metadata": {},
   "source": [
    "## Conclusion\n",
    "It is a fun and valuable adventure for me to explore the WeRateDog data in the project 4. \n",
    "Every dog is the most uniqe and beautiful creature in their owner's eye. So it might not be fair to give a rank of them. So I didn'r really looked into the rating. The data could be further analysed to identify when people tend to make the post of their dog based on the create_time. "
   ]
  },
  {
   "cell_type": "markdown",
   "metadata": {},
   "source": [
    "Hereby include our little puppy DangDang, a dachshund crossbreed. She is very clever, gentle and lovely. She was homeless till my parents took her home like 9 years ago. Since then, she's been living in a warm home with a lot caring and love. I haven't seen her for a while, and really miss her and my parents. I screen cut her video my parents send me and share it here. She wags her tail almost out of sight.\n",
    "![dangdang](dangdang1.png)"
   ]
  },
  {
   "cell_type": "code",
   "execution_count": null,
   "metadata": {},
   "outputs": [],
   "source": []
  }
 ],
 "metadata": {
  "kernelspec": {
   "display_name": "Python 3",
   "language": "python",
   "name": "python3"
  },
  "language_info": {
   "codemirror_mode": {
    "name": "ipython",
    "version": 3
   },
   "file_extension": ".py",
   "mimetype": "text/x-python",
   "name": "python",
   "nbconvert_exporter": "python",
   "pygments_lexer": "ipython3",
   "version": "3.6.3"
  }
 },
 "nbformat": 4,
 "nbformat_minor": 2
}
