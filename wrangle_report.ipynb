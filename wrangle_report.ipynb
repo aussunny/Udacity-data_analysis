{
 "cells": [
  {
   "cell_type": "markdown",
   "metadata": {},
   "source": [
    "# Wrangle Report on WeRateDog\n",
    "## Intro\n",
    "The wrangling process for this project include 3 big steps - acquring data from various sources, assessing data from quality and tidiness perspectives, and cleaning data for future analysis purpose.\n",
    "## Data acquisition\n",
    "There are 3 pieces of data need to be gathered for the project use as described below:\n",
    "1) The WeRateDogs Twitter archive can be downloaded directly from lecture source: twitter_archive_enhanced.csv\n",
    "2) The tweet image predictions shows the breed of each dog per twitter id, according to a neural network for image classification, which is also can be directly downloaded: image_predictions.tsv\n",
    "3) Using the tweet IDs in the WeRateDogs Twitter archive, query the Twitter API for each tweet's JSON data using Python's Tweepy library and store each tweet's entire set of JSON data in a file called tweet_json.txt file. I used JSON parsers when calling tweepy API, by which I can grab the tweet data in dict type directly. These JSON data is later on transfered to a pandas DataFrame with features of tweet ID, retweet count, and favorite count, create time, and full_text.\n",
    "## Data assessment\n",
    "I have evaluated the gathered data visually and programmatically for quality and tidiness issues, which is shown as below.\n",
    "### 1. For the twitter archive\n",
    "#### Quality issue identified\n",
    "1) drop unused columns via drop\n",
    "2) investigate the null rows in tw_arch.expanded_urls via tweepy and visually look into the related JSON data\n",
    "3) combine numeritor and dominator as a string, save into a new column 'rating'\n",
    "#### Tidiness issue identified\n",
    "4) 'doggo', 'floofer', 'pupper', 'puppo' 4 columns can be combined  to one column of 'breed' by looping, melt is not suitable here, as many data entry is none in this case\n",
    "### 2. For the tweets info scrabbed from JSON via tweepy\n",
    "#### Quality issue identified\n",
    "1) add the stage column from tw_arch\n",
    "2) add the rating column from tw_arch \n",
    "<br>3) add the dog name column from tw_arch\n",
    "3) trunc out the url in the df.full_text\n",
    "<br>4) noticed there are null value in the url, require further investigation, turns out to be reply or retweet, need to be dropped. Save the null entry as a new df, programmatically look into the related JSON data, and drop the corresponding entry.\n",
    "<br>5) some text has retweet prefix: exp: \"RT @alexmartindawg: \" should be drop out by looping\n",
    "<br>6) df.full_text has spaces at beginning of sentence via strip()\n",
    "#### Tidiness issue identified\n",
    "7) df.create_at column should change to datetime type via to_datetime\n",
    "### 3. For the img_pred\n",
    "#### Tidiness issue identified\n",
    "1) create one column with the predicted dog breed via looping and drop the rest prediction columns \n",
    "2) merge the altered img_pred1 to df1 via merge on the tweet_id\n",
    "## Data cleaning\n",
    "Each issue shown above has been cleaned accordingly(the methods is briefly describe respectively as above). The data pieces also gather into one piece of master pandas Dataframe called df2, which has features of:'tweet_id', 'created_at', 'favorite_count', 'retweet_count', 'stage', 'name', 'url', 'text', 'ratings', 'jpg_url', 'img_num', 'breed'. These infomation should be useful and enough to perform data analysis.\n",
    "\n",
    "## Conclusion\n",
    "Corresponding to the project requirements, the final data frame only include the original tweet, which has ratings and image urls. Some of the entry does not have name or breed recongnized. In wrangling process, I performed cleaning on 10 quality issues and 4 tidiness issues. My wrangling skill is sharpened on the web scrapping, file download via API, regular expression recognisation, JSON data structure and manipulation with deepening understanding of data tidiness and quality issue.   "
   ]
  }
 ],
 "metadata": {
  "kernelspec": {
   "display_name": "Python 3",
   "language": "python",
   "name": "python3"
  },
  "language_info": {
   "codemirror_mode": {
    "name": "ipython",
    "version": 3
   },
   "file_extension": ".py",
   "mimetype": "text/x-python",
   "name": "python",
   "nbconvert_exporter": "python",
   "pygments_lexer": "ipython3",
   "version": "3.6.3"
  }
 },
 "nbformat": 4,
 "nbformat_minor": 2
}
